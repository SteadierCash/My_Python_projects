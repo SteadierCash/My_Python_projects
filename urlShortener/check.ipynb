{
 "cells": [
  {
   "cell_type": "code",
   "execution_count": 48,
   "metadata": {},
   "outputs": [
    {
     "name": "stdout",
     "output_type": "stream",
     "text": [
      "Shortened URL: n.abl/RYcrax\n"
     ]
    }
   ],
   "source": [
    "import requests\n",
    "response = requests.get(\"http://127.0.0.1:5000/shorten?url=amazon.com/starting-page\")\n",
    "short_url = response.json().get(\"short_url\")\n",
    "print(f\"Shortened URL: {short_url}\")"
   ]
  },
  {
   "cell_type": "code",
   "execution_count": 47,
   "metadata": {},
   "outputs": [
    {
     "data": {
      "text/plain": [
       "b'{\\n  \"short_url\": \"n.abl/uFcbvf\"\\n}\\n'"
      ]
     },
     "execution_count": 47,
     "metadata": {},
     "output_type": "execute_result"
    }
   ],
   "source": [
    "response = requests.get(\"http://127.0.0.1:5000/shorten\", params={\"url\": \"http://google\"})\n",
    "response.content\n",
    "# print(f\"Shortened URL: {short_url}\")"
   ]
  },
  {
   "cell_type": "code",
   "execution_count": 41,
   "metadata": {},
   "outputs": [
    {
     "name": "stdout",
     "output_type": "stream",
     "text": [
      "Shortened URL: n.abl/ejFGbX\n",
      "Shortened URL: n.abl/XdQYsL\n",
      "Shortened URL: n.abl/7H9ryy\n",
      "Shortened URL: n.abl/xrINC8\n",
      "Shortened URL: n.abl/x47IUk\n",
      "Shortened URL: n.abl/X6kP2y\n",
      "Shortened URL: n.abl/6MR3Bt\n",
      "Shortened URL: n.abl/dxUrN7\n",
      "Shortened URL: n.abl/y8Vk2W\n",
      "Shortened URL: n.abl/kgXUWc\n",
      "Shortened URL: n.abl/CXYZUa\n",
      "Shortened URL: n.abl/WDcVhE\n",
      "Shortened URL: n.abl/kamjds\n",
      "Shortened URL: n.abl/NhXujp\n",
      "Shortened URL: n.abl/C1b9Oo\n",
      "Shortened URL: n.abl/MfzovS\n",
      "Shortened URL: n.abl/wNxCdD\n",
      "Shortened URL: n.abl/rXNfIp\n",
      "Shortened URL: n.abl/wk7GyD\n",
      "Shortened URL: n.abl/CCvwB2\n",
      "Shortened URL: n.abl/spH7J3\n",
      "Shortened URL: n.abl/gxIsHy\n",
      "Shortened URL: n.abl/JhMbsd\n",
      "Shortened URL: n.abl/clY3Jk\n",
      "Shortened URL: n.abl/GRywor\n",
      "Shortened URL: n.abl/2E581Q\n",
      "Shortened URL: n.abl/aJMAeG\n",
      "Shortened URL: n.abl/NBUfgI\n",
      "Shortened URL: n.abl/MX0kXI\n",
      "Shortened URL: n.abl/D2Ls7k\n",
      "Shortened URL: n.abl/UBTZBO\n",
      "Shortened URL: n.abl/W2MRMT\n",
      "Shortened URL: n.abl/9W6nvT\n",
      "Shortened URL: n.abl/Lvc0HP\n",
      "Shortened URL: n.abl/m9cFvI\n",
      "Shortened URL: n.abl/PpjBPz\n",
      "Shortened URL: n.abl/mWtoHS\n",
      "Shortened URL: n.abl/zWdBju\n",
      "Shortened URL: n.abl/QOp1c6\n",
      "Shortened URL: n.abl/n5YQLJ\n",
      "Shortened URL: n.abl/KY28XQ\n",
      "Shortened URL: n.abl/Y1GcEX\n",
      "Shortened URL: n.abl/kibROa\n",
      "Shortened URL: n.abl/PSQkSc\n",
      "Shortened URL: n.abl/dvrvcs\n",
      "Shortened URL: n.abl/iPiEQJ\n",
      "Shortened URL: n.abl/mELyDc\n",
      "Shortened URL: n.abl/AIfZDU\n",
      "Shortened URL: n.abl/q1WGnW\n",
      "Shortened URL: n.abl/1GjzWy\n",
      "Shortened URL: n.abl/ET8gRR\n",
      "Shortened URL: n.abl/e4kX6R\n",
      "Shortened URL: n.abl/hsK9wB\n",
      "Shortened URL: n.abl/ExvE5k\n",
      "Shortened URL: n.abl/QBpncs\n",
      "Shortened URL: n.abl/DUSu7d\n",
      "Shortened URL: n.abl/hItapc\n",
      "Shortened URL: n.abl/XqLIsm\n",
      "Shortened URL: n.abl/eZGTiD\n",
      "Shortened URL: n.abl/4TSIDY\n",
      "Shortened URL: n.abl/QqLyZD\n",
      "Shortened URL: n.abl/cpzg29\n",
      "Shortened URL: n.abl/AHxa8T\n",
      "Shortened URL: n.abl/rULh8t\n",
      "Shortened URL: n.abl/w8ZhUZ\n",
      "Shortened URL: n.abl/zsjQgl\n",
      "Shortened URL: n.abl/GWG0gn\n",
      "Shortened URL: n.abl/uEKgFP\n",
      "Shortened URL: n.abl/9YeQIJ\n",
      "Shortened URL: n.abl/2hfzpN\n",
      "Shortened URL: n.abl/L3bBBv\n",
      "Shortened URL: n.abl/8BU0HM\n",
      "Shortened URL: n.abl/hhQE5G\n",
      "Shortened URL: n.abl/D6pwaY\n",
      "Shortened URL: n.abl/JOqB9Z\n",
      "Shortened URL: n.abl/v0CdMt\n",
      "Shortened URL: n.abl/gLuelN\n",
      "Shortened URL: n.abl/cOKl9s\n",
      "Shortened URL: n.abl/g7hWVk\n",
      "Shortened URL: n.abl/QCWMu1\n",
      "Shortened URL: n.abl/Nq1SOX\n",
      "Shortened URL: n.abl/AwVFtg\n",
      "Shortened URL: n.abl/PrjUP4\n",
      "Shortened URL: n.abl/WwqYux\n",
      "Shortened URL: n.abl/e2RZ0y\n",
      "Shortened URL: n.abl/OINUNc\n",
      "Shortened URL: n.abl/bUxTAQ\n",
      "Shortened URL: n.abl/3kT6nU\n",
      "Shortened URL: n.abl/Te5EjQ\n",
      "Shortened URL: n.abl/LMmCDA\n",
      "Shortened URL: n.abl/ObPKmt\n",
      "Shortened URL: n.abl/bRD3zC\n",
      "Shortened URL: n.abl/dEFcXC\n",
      "Shortened URL: n.abl/itfc6N\n",
      "Shortened URL: n.abl/P6IzB3\n",
      "Shortened URL: n.abl/UiaKZj\n",
      "Shortened URL: n.abl/j5qlmG\n",
      "Shortened URL: n.abl/CeP9Un\n",
      "Shortened URL: n.abl/NHZhEX\n",
      "Shortened URL: None\n"
     ]
    }
   ],
   "source": [
    "for _ in range(100):\n",
    "    response = requests.get(\"http://127.0.0.1:5000/shorten\", params={\"url\": \"http://google\"})\n",
    "    short_url = response.json().get(\"short_url\")\n",
    "    print(f\"Shortened URL: {short_url}\")"
   ]
  },
  {
   "cell_type": "code",
   "execution_count": 46,
   "metadata": {},
   "outputs": [
    {
     "name": "stdout",
     "output_type": "stream",
     "text": [
      "Original URL: http://google\n"
     ]
    }
   ],
   "source": [
    "response = requests.get(\"http://127.0.0.1:5000/expand\", params={\"short_url\": \"az9x3q\"})\n",
    "original_url = response.json().get(\"original_url\")\n",
    "print(f\"Original URL: {original_url}\")"
   ]
  }
 ],
 "metadata": {
  "kernelspec": {
   "display_name": "Python 3",
   "language": "python",
   "name": "python3"
  },
  "language_info": {
   "codemirror_mode": {
    "name": "ipython",
    "version": 3
   },
   "file_extension": ".py",
   "mimetype": "text/x-python",
   "name": "python",
   "nbconvert_exporter": "python",
   "pygments_lexer": "ipython3",
   "version": "3.10.12"
  }
 },
 "nbformat": 4,
 "nbformat_minor": 2
}
